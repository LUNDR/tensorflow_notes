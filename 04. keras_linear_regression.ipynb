{
 "cells": [
  {
   "cell_type": "code",
   "execution_count": 10,
   "metadata": {},
   "outputs": [],
   "source": [
    "import matplotlib.pyplot as plt\n",
    "import tensorflow as tf\n",
    "from tensorflow import keras\n",
    "from tensorflow.keras import layers\n",
    "import numpy as np\n",
    "import pandas as pd"
   ]
  },
  {
   "cell_type": "code",
   "execution_count": 19,
   "metadata": {},
   "outputs": [],
   "source": [
    "W_true = 2\n",
    "b_true = 0.5\n",
    "x = np.linspace(0,3,130) #---generate x values\n",
    "y = W_true * x + b_true + np.random.randn(*x.shape) # -- generate values with random element"
   ]
  },
  {
   "cell_type": "code",
   "execution_count": 21,
   "metadata": {},
   "outputs": [],
   "source": [
    "x = pd.DataFrame(x, columns = ['x'])\n",
    "y = pd.DataFrame(y, columns = ['y'])"
   ]
  },
  {
   "cell_type": "code",
   "execution_count": 26,
   "metadata": {},
   "outputs": [],
   "source": [
    "model = keras.Sequential([layers.Dense(1,input_shape = (1,), activation = 'linear')])\n",
    "optimizer = tf.keras.optimizers.SGD(learning_rate = 0.01)\n",
    "\n",
    "model.compile(loss = 'mse', metrics = ['mse'],optimizer = optimizer)"
   ]
  },
  {
   "cell_type": "code",
   "execution_count": 27,
   "metadata": {
    "collapsed": true,
    "jupyter": {
     "outputs_hidden": true
    }
   },
   "outputs": [
    {
     "name": "stdout",
     "output_type": "stream",
     "text": [
      "Epoch 1/100\n",
      "5/5 [==============================] - 0s 1ms/step - loss: 10.3832 - mse: 10.3832\n",
      "Epoch 2/100\n",
      "5/5 [==============================] - 0s 1ms/step - loss: 5.5058 - mse: 5.5058\n",
      "Epoch 3/100\n",
      "5/5 [==============================] - 0s 1000us/step - loss: 3.1876 - mse: 3.1876\n",
      "Epoch 4/100\n",
      "5/5 [==============================] - 0s 953us/step - loss: 1.9480 - mse: 1.9480\n",
      "Epoch 5/100\n",
      "5/5 [==============================] - 0s 1ms/step - loss: 1.3345 - mse: 1.3345\n",
      "Epoch 6/100\n",
      "5/5 [==============================] - 0s 991us/step - loss: 1.1079 - mse: 1.1079\n",
      "Epoch 7/100\n",
      "5/5 [==============================] - 0s 2ms/step - loss: 1.1435 - mse: 1.1435\n",
      "Epoch 8/100\n",
      "5/5 [==============================] - 0s 1ms/step - loss: 1.0980 - mse: 1.0980\n",
      "Epoch 9/100\n",
      "5/5 [==============================] - 0s 1ms/step - loss: 1.1087 - mse: 1.1087\n",
      "Epoch 10/100\n",
      "5/5 [==============================] - 0s 989us/step - loss: 1.0855 - mse: 1.0855\n",
      "Epoch 11/100\n",
      "5/5 [==============================] - 0s 913us/step - loss: 1.0597 - mse: 1.0597\n",
      "Epoch 12/100\n",
      "5/5 [==============================] - 0s 1ms/step - loss: 1.0604 - mse: 1.0604\n",
      "Epoch 13/100\n",
      "5/5 [==============================] - 0s 904us/step - loss: 1.0590 - mse: 1.0590\n",
      "Epoch 14/100\n",
      "5/5 [==============================] - 0s 1ms/step - loss: 1.0535 - mse: 1.0535\n",
      "Epoch 15/100\n",
      "5/5 [==============================] - 0s 924us/step - loss: 1.0565 - mse: 1.0565\n",
      "Epoch 16/100\n",
      "5/5 [==============================] - 0s 1ms/step - loss: 1.0548 - mse: 1.0548\n",
      "Epoch 17/100\n",
      "5/5 [==============================] - 0s 1ms/step - loss: 1.0521 - mse: 1.0521\n",
      "Epoch 18/100\n",
      "5/5 [==============================] - 0s 976us/step - loss: 1.0505 - mse: 1.0505\n",
      "Epoch 19/100\n",
      "5/5 [==============================] - 0s 1ms/step - loss: 1.0698 - mse: 1.0698\n",
      "Epoch 20/100\n",
      "5/5 [==============================] - 0s 966us/step - loss: 1.0612 - mse: 1.0612\n",
      "Epoch 21/100\n",
      "5/5 [==============================] - 0s 1ms/step - loss: 1.0595 - mse: 1.0595\n",
      "Epoch 22/100\n",
      "5/5 [==============================] - 0s 853us/step - loss: 1.0493 - mse: 1.0493\n",
      "Epoch 23/100\n",
      "5/5 [==============================] - 0s 844us/step - loss: 1.0469 - mse: 1.0469\n",
      "Epoch 24/100\n",
      "5/5 [==============================] - 0s 1ms/step - loss: 1.0547 - mse: 1.0547\n",
      "Epoch 25/100\n",
      "5/5 [==============================] - 0s 893us/step - loss: 1.0482 - mse: 1.0482\n",
      "Epoch 26/100\n",
      "5/5 [==============================] - 0s 957us/step - loss: 1.0505 - mse: 1.0505\n",
      "Epoch 27/100\n",
      "5/5 [==============================] - 0s 1ms/step - loss: 1.0448 - mse: 1.0448\n",
      "Epoch 28/100\n",
      "5/5 [==============================] - 0s 863us/step - loss: 1.0432 - mse: 1.0432\n",
      "Epoch 29/100\n",
      "5/5 [==============================] - 0s 1ms/step - loss: 1.0413 - mse: 1.0413\n",
      "Epoch 30/100\n",
      "5/5 [==============================] - 0s 850us/step - loss: 1.0458 - mse: 1.0458\n",
      "Epoch 31/100\n",
      "5/5 [==============================] - 0s 896us/step - loss: 1.0519 - mse: 1.0519\n",
      "Epoch 32/100\n",
      "5/5 [==============================] - 0s 1ms/step - loss: 1.0421 - mse: 1.0421\n",
      "Epoch 33/100\n",
      "5/5 [==============================] - 0s 877us/step - loss: 1.0406 - mse: 1.0406\n",
      "Epoch 34/100\n",
      "5/5 [==============================] - 0s 1ms/step - loss: 1.0400 - mse: 1.0400\n",
      "Epoch 35/100\n",
      "5/5 [==============================] - 0s 881us/step - loss: 1.0426 - mse: 1.0426\n",
      "Epoch 36/100\n",
      "5/5 [==============================] - 0s 939us/step - loss: 1.0460 - mse: 1.0460\n",
      "Epoch 37/100\n",
      "5/5 [==============================] - 0s 1ms/step - loss: 1.0404 - mse: 1.0404\n",
      "Epoch 38/100\n",
      "5/5 [==============================] - 0s 1ms/step - loss: 1.0369 - mse: 1.0369\n",
      "Epoch 39/100\n",
      "5/5 [==============================] - 0s 1ms/step - loss: 1.0411 - mse: 1.0411\n",
      "Epoch 40/100\n",
      "5/5 [==============================] - 0s 986us/step - loss: 1.0428 - mse: 1.0428\n",
      "Epoch 41/100\n",
      "5/5 [==============================] - 0s 1ms/step - loss: 1.0435 - mse: 1.0435\n",
      "Epoch 42/100\n",
      "5/5 [==============================] - 0s 1ms/step - loss: 1.0406 - mse: 1.0406\n",
      "Epoch 43/100\n",
      "5/5 [==============================] - 0s 889us/step - loss: 1.0372 - mse: 1.0372\n",
      "Epoch 44/100\n",
      "5/5 [==============================] - 0s 1ms/step - loss: 1.0437 - mse: 1.0437\n",
      "Epoch 45/100\n",
      "5/5 [==============================] - 0s 854us/step - loss: 1.0390 - mse: 1.0390\n",
      "Epoch 46/100\n",
      "5/5 [==============================] - 0s 897us/step - loss: 1.0412 - mse: 1.0412\n",
      "Epoch 47/100\n",
      "5/5 [==============================] - 0s 1ms/step - loss: 1.0378 - mse: 1.0378\n",
      "Epoch 48/100\n",
      "5/5 [==============================] - 0s 915us/step - loss: 1.0407 - mse: 1.0407\n",
      "Epoch 49/100\n",
      "5/5 [==============================] - 0s 1ms/step - loss: 1.0384 - mse: 1.0384\n",
      "Epoch 50/100\n",
      "5/5 [==============================] - 0s 967us/step - loss: 1.0385 - mse: 1.0385\n",
      "Epoch 51/100\n",
      "5/5 [==============================] - 0s 1ms/step - loss: 1.0357 - mse: 1.0357\n",
      "Epoch 52/100\n",
      "5/5 [==============================] - 0s 1ms/step - loss: 1.0383 - mse: 1.0383\n",
      "Epoch 53/100\n",
      "5/5 [==============================] - 0s 918us/step - loss: 1.0388 - mse: 1.0388\n",
      "Epoch 54/100\n",
      "5/5 [==============================] - 0s 1ms/step - loss: 1.0345 - mse: 1.0345\n",
      "Epoch 55/100\n",
      "5/5 [==============================] - 0s 993us/step - loss: 1.0349 - mse: 1.0349\n",
      "Epoch 56/100\n",
      "5/5 [==============================] - 0s 1ms/step - loss: 1.0346 - mse: 1.0346\n",
      "Epoch 57/100\n",
      "5/5 [==============================] - 0s 1ms/step - loss: 1.0336 - mse: 1.0336\n",
      "Epoch 58/100\n",
      "5/5 [==============================] - 0s 917us/step - loss: 1.0331 - mse: 1.0331\n",
      "Epoch 59/100\n",
      "5/5 [==============================] - 0s 1ms/step - loss: 1.0346 - mse: 1.0346\n",
      "Epoch 60/100\n",
      "5/5 [==============================] - 0s 888us/step - loss: 1.0324 - mse: 1.0324\n",
      "Epoch 61/100\n",
      "5/5 [==============================] - 0s 1ms/step - loss: 1.0470 - mse: 1.0470\n",
      "Epoch 62/100\n",
      "5/5 [==============================] - 0s 1ms/step - loss: 1.0486 - mse: 1.0486\n",
      "Epoch 63/100\n",
      "5/5 [==============================] - 0s 891us/step - loss: 1.0557 - mse: 1.0557\n",
      "Epoch 64/100\n",
      "5/5 [==============================] - 0s 1ms/step - loss: 1.0424 - mse: 1.0424\n",
      "Epoch 65/100\n",
      "5/5 [==============================] - 0s 956us/step - loss: 1.0333 - mse: 1.0333\n",
      "Epoch 66/100\n",
      "5/5 [==============================] - 0s 1ms/step - loss: 1.0323 - mse: 1.0323\n",
      "Epoch 67/100\n",
      "5/5 [==============================] - 0s 1ms/step - loss: 1.0321 - mse: 1.0321\n",
      "Epoch 68/100\n",
      "5/5 [==============================] - 0s 882us/step - loss: 1.0321 - mse: 1.0321\n",
      "Epoch 69/100\n",
      "5/5 [==============================] - 0s 985us/step - loss: 1.0372 - mse: 1.0372\n",
      "Epoch 70/100\n",
      "5/5 [==============================] - 0s 944us/step - loss: 1.0349 - mse: 1.0349\n",
      "Epoch 71/100\n",
      "5/5 [==============================] - 0s 1ms/step - loss: 1.0355 - mse: 1.0355\n",
      "Epoch 72/100\n",
      "5/5 [==============================] - 0s 1ms/step - loss: 1.0341 - mse: 1.0341\n",
      "Epoch 73/100\n",
      "5/5 [==============================] - 0s 985us/step - loss: 1.0310 - mse: 1.0310\n",
      "Epoch 74/100\n",
      "5/5 [==============================] - 0s 1ms/step - loss: 1.0333 - mse: 1.0333\n",
      "Epoch 75/100\n",
      "5/5 [==============================] - 0s 901us/step - loss: 1.0419 - mse: 1.0419\n",
      "Epoch 76/100\n",
      "5/5 [==============================] - 0s 1ms/step - loss: 1.0397 - mse: 1.0397\n",
      "Epoch 77/100\n",
      "5/5 [==============================] - 0s 1ms/step - loss: 1.0432 - mse: 1.0432\n",
      "Epoch 78/100\n",
      "5/5 [==============================] - 0s 924us/step - loss: 1.0492 - mse: 1.0492\n",
      "Epoch 79/100\n",
      "5/5 [==============================] - 0s 998us/step - loss: 1.0506 - mse: 1.0506\n",
      "Epoch 80/100\n",
      "5/5 [==============================] - 0s 954us/step - loss: 1.0389 - mse: 1.0389\n",
      "Epoch 81/100\n",
      "5/5 [==============================] - 0s 1ms/step - loss: 1.0300 - mse: 1.0300\n",
      "Epoch 82/100\n",
      "5/5 [==============================] - 0s 1ms/step - loss: 1.0323 - mse: 1.0323\n",
      "Epoch 83/100\n",
      "5/5 [==============================] - 0s 1ms/step - loss: 1.0324 - mse: 1.0324\n",
      "Epoch 84/100\n",
      "5/5 [==============================] - 0s 1ms/step - loss: 1.0332 - mse: 1.0332\n",
      "Epoch 85/100\n",
      "5/5 [==============================] - 0s 1ms/step - loss: 1.0323 - mse: 1.0323\n",
      "Epoch 86/100\n",
      "5/5 [==============================] - 0s 991us/step - loss: 1.0359 - mse: 1.0359\n",
      "Epoch 87/100\n",
      "5/5 [==============================] - 0s 1ms/step - loss: 1.0354 - mse: 1.0354\n",
      "Epoch 88/100\n",
      "5/5 [==============================] - 0s 897us/step - loss: 1.0434 - mse: 1.0434\n",
      "Epoch 89/100\n",
      "5/5 [==============================] - 0s 912us/step - loss: 1.0543 - mse: 1.0543\n",
      "Epoch 90/100\n",
      "5/5 [==============================] - 0s 1ms/step - loss: 1.0549 - mse: 1.0549\n",
      "Epoch 91/100\n",
      "5/5 [==============================] - 0s 1ms/step - loss: 1.0376 - mse: 1.0376\n",
      "Epoch 92/100\n",
      "5/5 [==============================] - 0s 1ms/step - loss: 1.0354 - mse: 1.0354\n",
      "Epoch 93/100\n",
      "5/5 [==============================] - 0s 929us/step - loss: 1.0331 - mse: 1.0331\n",
      "Epoch 94/100\n",
      "5/5 [==============================] - 0s 1ms/step - loss: 1.0391 - mse: 1.0391\n",
      "Epoch 95/100\n",
      "5/5 [==============================] - 0s 904us/step - loss: 1.0303 - mse: 1.0303\n",
      "Epoch 96/100\n",
      "5/5 [==============================] - 0s 1ms/step - loss: 1.0318 - mse: 1.0318\n",
      "Epoch 97/100\n",
      "5/5 [==============================] - 0s 1ms/step - loss: 1.0309 - mse: 1.0309\n",
      "Epoch 98/100\n",
      "5/5 [==============================] - 0s 948us/step - loss: 1.0290 - mse: 1.0290\n",
      "Epoch 99/100\n",
      "5/5 [==============================] - 0s 1ms/step - loss: 1.0310 - mse: 1.0310\n",
      "Epoch 100/100\n",
      "5/5 [==============================] - 0s 1ms/step - loss: 1.0302 - mse: 1.0302\n"
     ]
    },
    {
     "data": {
      "text/plain": [
       "<keras.callbacks.History at 0x7fb43b705070>"
      ]
     },
     "execution_count": 27,
     "metadata": {},
     "output_type": "execute_result"
    }
   ],
   "source": [
    "model.fit(x,y,epochs = 100)"
   ]
  },
  {
   "cell_type": "code",
   "execution_count": 28,
   "metadata": {},
   "outputs": [],
   "source": [
    "y_pred = model.predict(x)"
   ]
  },
  {
   "cell_type": "code",
   "execution_count": 29,
   "metadata": {},
   "outputs": [
    {
     "data": {
      "image/png": "[encoded data removed]",
      "text/plain": [
       "<Figure size 720x576 with 1 Axes>"
      ]
     },
     "metadata": {
      "needs_background": "light"
     },
     "output_type": "display_data"
    }
   ],
   "source": [
    "plt.figure(figsize = (10,8))\n",
    "plt.scatter(x,y,c='blue',label = 'Original Data')\n",
    "plt.plot(x,y_pred, label = 'Fitted line')\n",
    "\n",
    "plt.xlabel('x')\n",
    "plt.ylabel('y')\n",
    "plt.title(\"Linear Regression\")\n",
    "plt.show()"
   ]
  },
  {
   "cell_type": "code",
   "execution_count": null,
   "metadata": {},
   "outputs": [],
   "source": []
  }
 ],
 "metadata": {
  "kernelspec": {
   "display_name": "Python 3",
   "language": "python",
   "name": "python3"
  },
  "language_info": {
   "codemirror_mode": {
    "name": "ipython",
    "version": 3
   },
   "file_extension": ".py",
   "mimetype": "text/x-python",
   "name": "python",
   "nbconvert_exporter": "python",
   "pygments_lexer": "ipython3",
   "version": "3.8.2"
  }
 },
 "nbformat": 4,
 "nbformat_minor": 4
}
